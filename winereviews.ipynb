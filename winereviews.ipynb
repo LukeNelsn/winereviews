{
 "cells": [
  {
   "cell_type": "markdown",
   "metadata": {},
   "source": [
    "## Preliminary importing and organization"
   ]
  },
  {
   "cell_type": "code",
   "execution_count": null,
   "metadata": {},
   "outputs": [],
   "source": [
    "# import packages\n",
    "import numpy as np\n",
    "import pandas as pd\n",
    "from matplotlib import pyplot as plt\n",
    "from matplotlib import figure as fig\n",
    "import pycountry_convert as pc\n",
    "from pycountry_convert import country_alpha2_to_continent_code, country_name_to_country_alpha2\n",
    "\n",
    "# establish continents naming dictionary\n",
    "continents = {\n",
    "    'NA': 'North America',\n",
    "    'SA': 'South America', \n",
    "    'AS': 'Asia',\n",
    "    'OC': 'Australia',\n",
    "    'AF': 'Africa',\n",
    "    'EU': 'Europe'\n",
    "}\n",
    "\n",
    "# set pandas to show us all columns\n",
    "pd.set_option('display.max_columns', None)\n",
    "pd.set_option(\"expand_frame_repr\", False)\n",
    "\n",
    "# importing the 150k CSV file\n",
    "wine = pd.read_csv('winesfolder\\winemag-data_first150k.csv')\n",
    "wine = pd.DataFrame(wine)\n",
    "wine.head()"
   ]
  },
  {
   "cell_type": "markdown",
   "metadata": {},
   "source": [
    "#### Partition the data by continent"
   ]
  },
  {
   "cell_type": "code",
   "execution_count": 2,
   "metadata": {},
   "outputs": [],
   "source": [
    "# formalize each country name with lambda function --'Bosnia and Herzegovina':'Bosnia'\n",
    "countryFixer = lambda name: {'US':'United States', 'England':'United Kingdom','US-France':'France'}.get(name,name)\n",
    "wine['Country'] = wine.country.apply(countryFixer)\n",
    "\n",
    "# remove nan values (5 found)\n",
    "np.where(pd.isnull(wine.Country))\n",
    "noNan_wine = wine.drop([wine.index[1133], wine.index[1440], wine.index[68226], wine.index[113016], wine.index[135696]])\n",
    "\n",
    "# create full list of each continent\n",
    "continents_list = []\n",
    "continents = {\n",
    "    'NA': 'North America',\n",
    "    'SA': 'South America', \n",
    "    'AS': 'Asia',\n",
    "    'OC': 'Australia',\n",
    "    'AF': 'Africa',\n",
    "    'EU': 'Europe'\n",
    "}\n",
    "\n",
    "for country_name in noNan_wine.Country:\n",
    "    country_alpha2 = pc.country_name_to_country_alpha2(country_name)\n",
    "    country_continent_code = pc.country_alpha2_to_continent_code(country_alpha2)\n",
    "    country_continent_name = pc.convert_continent_code_to_continent_name(country_continent_code)\n",
    "    continents_list.append(country_continent_name)\n",
    "\n",
    "# add new column, assign it the values from the complete list of continents\n",
    "noNan_wine['Continent'] = continents_list\n",
    "noNan_wine.head()\n",
    "\n",
    "# separate all wines into new dataframes by continents\n",
    "NA_wines = noNan_wine[noNan_wine.Continent=='North America'].reset_index()\n",
    "EU_wines = noNan_wine[noNan_wine.Continent=='Europe'].reset_index()\n",
    "OC_wines = noNan_wine[noNan_wine.Continent=='Oceania'].reset_index()\n",
    "SA_wines = noNan_wine[noNan_wine.Continent=='South America'].reset_index()\n",
    "AS_wines = noNan_wine[noNan_wine.Continent=='Asia'].reset_index()\n",
    "AF_wines = noNan_wine[noNan_wine.Continent=='Africa'].reset_index()"
   ]
  },
  {
   "cell_type": "markdown",
   "metadata": {},
   "source": [
    "##### Let's see how many reviews originate from each continent"
   ]
  },
  {
   "cell_type": "code",
   "execution_count": null,
   "metadata": {},
   "outputs": [],
   "source": [
    "print('NA:',len(NA_wines))\n",
    "print('EU:',len(EU_wines))\n",
    "print('OC:',len(OC_wines))\n",
    "print('SA:',len(SA_wines))\n",
    "print('AS:',len(AS_wines))\n",
    "print('AF:',len(AF_wines))"
   ]
  },
  {
   "cell_type": "markdown",
   "metadata": {},
   "source": [
    "#### Calculating average wine rating points by continent"
   ]
  },
  {
   "cell_type": "code",
   "execution_count": null,
   "metadata": {},
   "outputs": [],
   "source": [
    "# calculate each continent's average points\n",
    "continent_avgs = (NA_wines.points.mean(), EU_wines.points.mean(), OC_wines.points.mean(), SA_wines.points.mean(), AS_wines.points.mean(), AF_wines.points.mean())\n",
    "\n",
    "# calculate the dataset's average out of curiosity\n",
    "cumulative = NA_wines.points.mean()+EU_wines.points.mean()+OC_wines.points.mean()+SA_wines.points.mean()+AS_wines.points.mean()+AF_wines.points.mean()\n",
    "cumulative_avg = cumulative/6\n",
    "\n",
    "# begin plotting the data, neatly organized\n",
    "error = noNan_wine.groupby('Continent').points.sem()\n",
    "ax = plt.subplot()\n",
    "plot = plt.bar(range(len(continent_avgs)), continent_avgs, yerr = error, capsize = 5, color='firebrick')\n",
    "\n",
    "# let's give the bar chart some nice labels and visual cues\n",
    "plt.ylim(ymin=85, ymax=89)\n",
    "ax.set_ylabel('Average Wine Points')\n",
    "ax.set_title('Average Wine Points by Continent')\n",
    "ax.set_xticks(range(len(continent_avgs)))\n",
    "ax.set_xticklabels(noNan_wine.Continent.unique(), rotation=22.5)\n",
    "#['North America', 'Europe', 'Oceania', 'South America', 'Asia', 'Africa'])\n",
    "\n",
    "# let's plot each continent's average above its respective bar chart\n",
    "for value in plot:\n",
    "    height = value.get_height()\n",
    "    plt.text(value.get_x() + value.get_width()/2.,\n",
    "             1.002*height,'%d' % int(height), ha='center', va='bottom')\n",
    "\n",
    "# saving the chart as a .jpeg file, and displaying the output below this jupyer code cell\n",
    "plt.savefig(fname='contAverage.jpeg', dpi=300, bbox_inches='tight')\n",
    "plt.show()"
   ]
  },
  {
   "cell_type": "markdown",
   "metadata": {},
   "source": [
    "#### Drill down Europe "
   ]
  },
  {
   "cell_type": "code",
   "execution_count": null,
   "metadata": {},
   "outputs": [],
   "source": [
    "# biring in the Europe wines dataframe, and group the ratings by country\n",
    "EU_wines\n",
    "EU_Country_wines = EU_wines.groupby('Country').points.mean().reset_index()\n",
    "\n",
    "# gather the top 5 (highly rated) countries, this can be changed as you see fit\n",
    "EU_Country_wines_top5 = EU_Country_wines[EU_Country_wines['points'] > 88.3]\n",
    "\n",
    "# begin plotting the top 5 data\n",
    "ax = plt.subplot()\n",
    "plot = plt.scatter(range(len(EU_Country_wines_top5)),EU_Country_wines_top5.points, color='firebrick')\n",
    "\n",
    "# let's give the chart some nice labels and visual cues\n",
    "plt.ylim(ymin=80, ymax=100)\n",
    "ax.set_ylabel('Average Wine Points')\n",
    "ax.set_title('Average Wine Points by Country')\n",
    "ax.set_xticks(range(len(EU_Country_wines_top5)))\n",
    "ax.set_xticklabels(EU_Country_wines_top5.Country.unique(), rotation=22.5)\n",
    "\n",
    "# plotting each data point along the chart\n",
    "y = list(EU_Country_wines_top5.points)\n",
    "z = range(len(EU_Country_wines_top5))\n",
    "n = list(EU_Country_wines_top5.points.round(decimals=2))\n",
    "\n",
    "for i, txt in enumerate(n):\n",
    "    ax.annotate(txt, (z[i]-.175, y[i]+.75))\n",
    "\n",
    "# saving the chart as a .jpeg file, and displaying the output below this jupyer code cell\n",
    "plt.savefig(fname='countAverages.jpeg', dpi=300, bbox_inches='tight')\n",
    "plt.show()"
   ]
  },
  {
   "cell_type": "markdown",
   "metadata": {},
   "source": [
    "#### How many reviews come from each country?"
   ]
  },
  {
   "cell_type": "code",
   "execution_count": null,
   "metadata": {},
   "outputs": [],
   "source": [
    "# partition each country into its own dataframe\n",
    "AUT_wines = noNan_wine[noNan_wine.Country == 'Austria']\n",
    "FRA_wines = noNan_wine[noNan_wine.Country == 'France']\n",
    "GER_wines = noNan_wine[noNan_wine.Country == 'Germany']\n",
    "ITY_wines = noNan_wine[noNan_wine.Country == 'Italy']\n",
    "UK_wines = noNan_wine[noNan_wine.Country == 'United Kingdom']\n",
    "\n",
    "# print the number of reviews from each country\n",
    "print(len(AUT_wines),len(FRA_wines),len(GER_wines),len(ITY_wines),len(UK_wines))"
   ]
  }
 ],
 "metadata": {
  "kernelspec": {
   "display_name": "Python 3.9.0 64-bit",
   "language": "python",
   "name": "python3"
  },
  "language_info": {
   "codemirror_mode": {
    "name": "ipython",
    "version": 3
   },
   "file_extension": ".py",
   "mimetype": "text/x-python",
   "name": "python",
   "nbconvert_exporter": "python",
   "pygments_lexer": "ipython3",
   "version": "3.9.0"
  },
  "orig_nbformat": 4,
  "vscode": {
   "interpreter": {
    "hash": "1ce009c102672704d83929721ababf55feb1d8ce471d0290721f61741b5b313a"
   }
  }
 },
 "nbformat": 4,
 "nbformat_minor": 2
}
